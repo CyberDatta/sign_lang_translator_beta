{
 "cells": [
  {
   "cell_type": "markdown",
   "id": "d54d5110",
   "metadata": {},
   "source": [
    "change time durations"
   ]
  },
  {
   "cell_type": "code",
   "execution_count": 33,
   "id": "9f222439",
   "metadata": {},
   "outputs": [
    {
     "name": "stdout",
     "output_type": "stream",
     "text": [
      "5.133333333333334\n"
     ]
    }
   ],
   "source": [
    "import cv2\n",
    "\n",
    "def adjust_video_speed(input_video_path, output_video_path, target_duration):\n",
    "    cap = cv2.VideoCapture(input_video_path)\n",
    "    \n",
    "    fps = cap.get(cv2.CAP_PROP_FPS)\n",
    "    total_frames = int(cap.get(cv2.CAP_PROP_FRAME_COUNT))\n",
    "    \n",
    "    target_frame_count = int(target_duration * fps)\n",
    "\n",
    "    # Calculate speed adjustment factor\n",
    "    speed_factor = total_frames / target_frame_count\n",
    "    print(speed_factor)\n",
    "\n",
    "    fourcc = cv2.VideoWriter_fourcc(*'mp4v')\n",
    "    out = cv2.VideoWriter(output_video_path, fourcc, fps, (int(cap.get(3)), int(cap.get(4))))\n",
    "\n",
    "    frame_number = 0\n",
    "    while cap.isOpened():\n",
    "        ret, frame = cap.read()\n",
    "        if not ret:\n",
    "            break\n",
    "        out.write(frame)\n",
    "        # Skip frames according to the speed adjustment factor\n",
    "        frame_number += 1\n",
    "        if frame_number % speed_factor != 0:\n",
    "            cap.set(cv2.CAP_PROP_POS_FRAMES, int(frame_number * speed_factor))\n",
    "\n",
    "    cap.release()\n",
    "    out.release()"
   ]
  },
  {
   "cell_type": "code",
   "execution_count": null,
   "id": "88e44b79",
   "metadata": {},
   "outputs": [],
   "source": [
    "# Example usage:\n",
    "input_video_path = 'hello.mp4'\n",
    "output_video_path = 'output_video.mp4'\n",
    "target_duration = 1  # Desired duration in seconds\n",
    "\n",
    "adjust_video_speed(input_video_path, output_video_path, target_duration)"
   ]
  },
  {
   "cell_type": "markdown",
   "id": "f37a1d6d",
   "metadata": {},
   "source": [
    "create video with new frame count"
   ]
  },
  {
   "cell_type": "code",
   "execution_count": 1,
   "id": "76350f30",
   "metadata": {},
   "outputs": [],
   "source": [
    "import cv2\n",
    "\n",
    "def adjust_video_frames(input_video_path, output_video_path, target_frame_number, target_fps):\n",
    "    cap = cv2.VideoCapture(input_video_path)\n",
    "    \n",
    "    total_frames = int(cap.get(cv2.CAP_PROP_FRAME_COUNT))\n",
    "    \n",
    "    fourcc = cv2.VideoWriter_fourcc(*'mp4v')\n",
    "    out = cv2.VideoWriter(output_video_path, fourcc, target_fps, (int(cap.get(3)), int(cap.get(4))))\n",
    "    \n",
    "    frame_increment = total_frames // target_frame_number\n",
    "    frame_count = 0\n",
    "    output_frame_count=0\n",
    "    \n",
    "    # Iterate through the video frames\n",
    "    while True:\n",
    "        if output_frame_count >= target_frame_number:\n",
    "            break\n",
    "    # Read a frame\n",
    "        ret, frame = cap.read()\n",
    "    \n",
    "    # Check if frame was read successfully\n",
    "        if not ret:\n",
    "            break\n",
    "    \n",
    "    # Check if current frame index is the one we want\n",
    "        if frame_count % frame_increment == 0:\n",
    "        # Process or save the frame as needed\n",
    "        # For example, you can save the frame as an image\n",
    "            out.write(frame)\n",
    "            output_frame_count += 1\n",
    "    \n",
    "    # Increment frame count\n",
    "        frame_count += 1\n",
    "    \n",
    "    # Break the loop if all 30 frames have been captured\n",
    "        if frame_count >= total_frames:\n",
    "            break\n",
    "            \n",
    "    cap.release()\n",
    "    out.release()"
   ]
  },
  {
   "cell_type": "code",
   "execution_count": 2,
   "id": "e10c0288",
   "metadata": {},
   "outputs": [],
   "source": [
    "# Examle usage:\n",
    "input_video_path = 'hello.mp4'\n",
    "output_video_path = 'output_video.mp4'\n",
    "target_duration = 1  # Desired duration in seconds\n",
    "\n",
    "adjust_video_frames(input_video_path, output_video_path, 30, 30)"
   ]
  }
 ],
 "metadata": {
  "kernelspec": {
   "display_name": "Python 3 (ipykernel)",
   "language": "python",
   "name": "python3"
  },
  "language_info": {
   "codemirror_mode": {
    "name": "ipython",
    "version": 3
   },
   "file_extension": ".py",
   "mimetype": "text/x-python",
   "name": "python",
   "nbconvert_exporter": "python",
   "pygments_lexer": "ipython3",
   "version": "3.10.9"
  }
 },
 "nbformat": 4,
 "nbformat_minor": 5
}
